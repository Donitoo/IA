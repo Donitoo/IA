{
  "nbformat": 4,
  "nbformat_minor": 0,
  "metadata": {
    "colab": {
      "provenance": []
    },
    "kernelspec": {
      "name": "python3",
      "display_name": "Python 3"
    },
    "language_info": {
      "name": "python"
    }
  },
  "cells": [
    {
      "cell_type": "markdown",
      "metadata": {
        "id": "uoNRb596D3Vt"
      },
      "source": [
        "# Ejemplo de red neuronal con Keras"
      ]
    },
    {
      "cell_type": "code",
      "metadata": {
        "id": "fmFh3vlPDfko"
      },
      "source": [
        "from numpy import loadtxt\n",
        "from keras.models import Sequential\n",
        "from keras.layers import Dense"
      ],
      "execution_count": null,
      "outputs": []
    },
    {
      "cell_type": "markdown",
      "metadata": {
        "id": "VxJOgMWREdPQ"
      },
      "source": [
        "Cargar el conjunto de datos"
      ]
    },
    {
      "cell_type": "code",
      "metadata": {
        "id": "MbA6vfLkFKGV"
      },
      "source": [
        "datos = loadtxt('xor.csv',delimiter=',')"
      ],
      "execution_count": null,
      "outputs": []
    },
    {
      "cell_type": "markdown",
      "metadata": {
        "id": "rMBry9rIF09t"
      },
      "source": [
        "Dividir en datos de entrada (X) y de salida (y)"
      ]
    },
    {
      "cell_type": "code",
      "metadata": {
        "id": "h2MOCaNyGA0E"
      },
      "source": [
        "X = datos[:,0:2]\n",
        "y = datos[:,2]"
      ],
      "execution_count": null,
      "outputs": []
    },
    {
      "cell_type": "code",
      "source": [
        "X"
      ],
      "metadata": {
        "colab": {
          "base_uri": "https://localhost:8080/"
        },
        "id": "aolyroKW5WZk",
        "outputId": "14eaae6d-5b8e-4e59-f24b-f5f81a53d834"
      },
      "execution_count": null,
      "outputs": [
        {
          "output_type": "execute_result",
          "data": {
            "text/plain": [
              "array([[1., 1.],\n",
              "       [1., 0.],\n",
              "       [0., 1.],\n",
              "       [0., 0.]])"
            ]
          },
          "metadata": {},
          "execution_count": 4
        }
      ]
    },
    {
      "cell_type": "code",
      "source": [
        "y"
      ],
      "metadata": {
        "colab": {
          "base_uri": "https://localhost:8080/"
        },
        "id": "oYc3ge7M5ZeV",
        "outputId": "26c07b76-3a64-41fc-8a4d-64fa84453254"
      },
      "execution_count": null,
      "outputs": [
        {
          "output_type": "execute_result",
          "data": {
            "text/plain": [
              "array([0., 1., 1., 0.])"
            ]
          },
          "metadata": {},
          "execution_count": 5
        }
      ]
    },
    {
      "cell_type": "markdown",
      "metadata": {
        "id": "akub2BvYGstr"
      },
      "source": [
        "Definir el modelo con keras"
      ]
    },
    {
      "cell_type": "code",
      "metadata": {
        "id": "GwgpxllxGxL_"
      },
      "source": [
        "modelo = Sequential()"
      ],
      "execution_count": null,
      "outputs": []
    },
    {
      "cell_type": "code",
      "metadata": {
        "id": "qmzRnoL4GbB8"
      },
      "source": [
        "modelo.add(Dense(10,input_dim=2,activation='relu'))\n",
        "modelo.add(Dense(10,activation='relu'))\n",
        "modelo.add(Dense(8,activation='relu'))\n",
        "modelo.add(Dense(1,activation='sigmoid'))"
      ],
      "execution_count": null,
      "outputs": []
    },
    {
      "cell_type": "markdown",
      "metadata": {
        "id": "TvLX1iXtLa21"
      },
      "source": [
        "Compilar el modelo keras"
      ]
    },
    {
      "cell_type": "code",
      "metadata": {
        "id": "5-OyMGkiLVSo"
      },
      "source": [
        "modelo.compile(loss='binary_crossentropy',optimizer='adam',metrics=['accuracy'])"
      ],
      "execution_count": null,
      "outputs": []
    },
    {
      "cell_type": "markdown",
      "metadata": {
        "id": "sC9uWMMxMGVW"
      },
      "source": [
        "Entrenar el modelo con el conjunto de datos"
      ]
    },
    {
      "cell_type": "code",
      "metadata": {
        "colab": {
          "base_uri": "https://localhost:8080/"
        },
        "id": "QWFc8xF2MO39",
        "outputId": "d0894d67-9f86-441a-df87-678fe30f594a"
      },
      "source": [
        "modelo.fit(X,y,epochs=1000,batch_size=1,verbose=0)"
      ],
      "execution_count": null,
      "outputs": [
        {
          "output_type": "execute_result",
          "data": {
            "text/plain": [
              "<keras.callbacks.History at 0x7f2a092d9210>"
            ]
          },
          "metadata": {},
          "execution_count": 29
        }
      ]
    },
    {
      "cell_type": "markdown",
      "metadata": {
        "id": "y9ADkrz8M_Ql"
      },
      "source": [
        "Evaluar el modelo keras"
      ]
    },
    {
      "cell_type": "code",
      "metadata": {
        "colab": {
          "base_uri": "https://localhost:8080/"
        },
        "id": "AQhe4KzCL_nY",
        "outputId": "403bb591-5e4b-4e39-b59e-f77e4503d0b3"
      },
      "source": [
        "_ , accuracy = modelo.evaluate(X,y)\n",
        "print('Exactitud (accuracy): %.2f' % (accuracy*100))"
      ],
      "execution_count": null,
      "outputs": [
        {
          "output_type": "stream",
          "name": "stdout",
          "text": [
            "1/1 [==============================] - 0s 153ms/step - loss: 4.7174e-04 - accuracy: 1.0000\n",
            "Exactitud (accuracy): 100.00\n"
          ]
        }
      ]
    },
    {
      "cell_type": "markdown",
      "metadata": {
        "id": "y4x57Xkh1yqS"
      },
      "source": [
        "Realizar predicciones con el modelo"
      ]
    },
    {
      "cell_type": "code",
      "metadata": {
        "id": "U9d_siHiNZ_O"
      },
      "source": [
        "predicciones = modelo.predict(X)"
      ],
      "execution_count": null,
      "outputs": []
    },
    {
      "cell_type": "markdown",
      "source": [
        "Los resultados verdaderos"
      ],
      "metadata": {
        "id": "wYA6wpiwEPnn"
      }
    },
    {
      "cell_type": "code",
      "metadata": {
        "colab": {
          "base_uri": "https://localhost:8080/"
        },
        "id": "X_G7vB-C14CK",
        "outputId": "55be6acd-4d75-460d-9437-f49957a4e057"
      },
      "source": [
        "y"
      ],
      "execution_count": null,
      "outputs": [
        {
          "output_type": "execute_result",
          "data": {
            "text/plain": [
              "array([0., 1., 1., 0.])"
            ]
          },
          "metadata": {},
          "execution_count": 32
        }
      ]
    },
    {
      "cell_type": "markdown",
      "source": [
        "Los resultados predichos"
      ],
      "metadata": {
        "id": "SQc_dLvmEbmN"
      }
    },
    {
      "cell_type": "code",
      "metadata": {
        "colab": {
          "base_uri": "https://localhost:8080/"
        },
        "id": "L-1IQqGU2CZz",
        "outputId": "eaaac1ad-d970-42e9-9c9a-d27195576227"
      },
      "source": [
        "predicciones"
      ],
      "execution_count": null,
      "outputs": [
        {
          "output_type": "execute_result",
          "data": {
            "text/plain": [
              "array([[8.3383886e-05],\n",
              "       [9.9966395e-01],\n",
              "       [9.9983066e-01],\n",
              "       [1.2972951e-03]], dtype=float32)"
            ]
          },
          "metadata": {},
          "execution_count": 33
        }
      ]
    },
    {
      "cell_type": "markdown",
      "metadata": {
        "id": "PPxkl0_z3vJh"
      },
      "source": [
        "comparaciones"
      ]
    },
    {
      "cell_type": "code",
      "metadata": {
        "colab": {
          "base_uri": "https://localhost:8080/"
        },
        "id": "ya508WHz36zw",
        "outputId": "9b9c2c2f-112a-46b3-9113-54d063c752d0"
      },
      "source": [
        "for i in range(4):\n",
        "  print('%s => %.2f (esperado %d))' % (X[i].tolist(),predicciones[i],y[i]))"
      ],
      "execution_count": null,
      "outputs": [
        {
          "output_type": "stream",
          "name": "stdout",
          "text": [
            "[1.0, 1.0] => 0.00 (esperado 0))\n",
            "[1.0, 0.0] => 1.00 (esperado 1))\n",
            "[0.0, 1.0] => 1.00 (esperado 1))\n",
            "[0.0, 0.0] => 0.00 (esperado 0))\n"
          ]
        }
      ]
    },
    {
      "cell_type": "markdown",
      "metadata": {
        "id": "WnNOsp2nFhU9"
      },
      "source": []
    }
  ]
}