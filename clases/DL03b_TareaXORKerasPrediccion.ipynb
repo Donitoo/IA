{
  "nbformat": 4,
  "nbformat_minor": 0,
  "metadata": {
    "colab": {
      "provenance": []
    },
    "kernelspec": {
      "name": "python3",
      "display_name": "Python 3"
    },
    "language_info": {
      "name": "python"
    }
  },
  "cells": [
    {
      "cell_type": "markdown",
      "metadata": {
        "id": "uoNRb596D3Vt"
      },
      "source": [
        "# Ejemplo de red neuronal con Keras"
      ]
    },
    {
      "cell_type": "code",
      "metadata": {
        "id": "fmFh3vlPDfko"
      },
      "source": [
        "from numpy import loadtxt\n",
        "from keras.models import Sequential\n",
        "from keras.layers import Dense"
      ],
      "execution_count": null,
      "outputs": []
    },
    {
      "cell_type": "markdown",
      "metadata": {
        "id": "VxJOgMWREdPQ"
      },
      "source": [
        "Cargar el conjunto de datos"
      ]
    },
    {
      "cell_type": "code",
      "metadata": {
        "id": "MbA6vfLkFKGV"
      },
      "source": [
        "datos = loadtxt('xor.csv',delimiter=',')"
      ],
      "execution_count": null,
      "outputs": []
    },
    {
      "cell_type": "markdown",
      "metadata": {
        "id": "rMBry9rIF09t"
      },
      "source": [
        "Dividir en datos de entrada (X) y de salida (y)"
      ]
    },
    {
      "cell_type": "code",
      "metadata": {
        "id": "h2MOCaNyGA0E"
      },
      "source": [
        "X = datos[:,0:2]\n",
        "y = datos[:,2]"
      ],
      "execution_count": null,
      "outputs": []
    },
    {
      "cell_type": "code",
      "source": [
        "X"
      ],
      "metadata": {
        "colab": {
          "base_uri": "https://localhost:8080/"
        },
        "id": "aolyroKW5WZk",
        "outputId": "5e58ef07-a01a-47e2-d7cb-8b701c70039c"
      },
      "execution_count": null,
      "outputs": [
        {
          "output_type": "execute_result",
          "data": {
            "text/plain": [
              "array([[1., 1.],\n",
              "       [1., 0.],\n",
              "       [0., 1.],\n",
              "       [0., 0.]])"
            ]
          },
          "metadata": {},
          "execution_count": 4
        }
      ]
    },
    {
      "cell_type": "code",
      "source": [
        "y"
      ],
      "metadata": {
        "colab": {
          "base_uri": "https://localhost:8080/"
        },
        "id": "oYc3ge7M5ZeV",
        "outputId": "1416f560-f13f-432f-a23c-f78d72a43f00"
      },
      "execution_count": null,
      "outputs": [
        {
          "output_type": "execute_result",
          "data": {
            "text/plain": [
              "array([0., 1., 1., 0.])"
            ]
          },
          "metadata": {},
          "execution_count": 5
        }
      ]
    },
    {
      "cell_type": "markdown",
      "metadata": {
        "id": "akub2BvYGstr"
      },
      "source": [
        "Definir el modelo con keras"
      ]
    },
    {
      "cell_type": "code",
      "metadata": {
        "id": "GwgpxllxGxL_"
      },
      "source": [
        "modelo = Sequential()"
      ],
      "execution_count": null,
      "outputs": []
    },
    {
      "cell_type": "code",
      "metadata": {
        "id": "qmzRnoL4GbB8"
      },
      "source": [
        "modelo.add(Dense(3,input_dim=2,activation='sigmoid'))\n",
        "modelo.add(Dense(1,activation='sigmoid'))"
      ],
      "execution_count": null,
      "outputs": []
    },
    {
      "cell_type": "markdown",
      "metadata": {
        "id": "TvLX1iXtLa21"
      },
      "source": [
        "Compilar el modelo keras"
      ]
    },
    {
      "cell_type": "code",
      "metadata": {
        "id": "5-OyMGkiLVSo"
      },
      "source": [
        "modelo.compile(loss='binary_crossentropy',optimizer='adam',metrics=['accuracy'])"
      ],
      "execution_count": null,
      "outputs": []
    },
    {
      "cell_type": "markdown",
      "metadata": {
        "id": "sC9uWMMxMGVW"
      },
      "source": [
        "Entrenar el modelo con el conjunto de datos"
      ]
    },
    {
      "cell_type": "code",
      "metadata": {
        "colab": {
          "base_uri": "https://localhost:8080/"
        },
        "id": "QWFc8xF2MO39",
        "outputId": "a9b22a00-7be7-48c4-92be-c18c2873d4a1"
      },
      "source": [
        "modelo.fit(X,y,epochs=2000,batch_size=1,verbose=0)"
      ],
      "execution_count": null,
      "outputs": [
        {
          "output_type": "execute_result",
          "data": {
            "text/plain": [
              "<keras.callbacks.History at 0x7fd0f8f00a50>"
            ]
          },
          "metadata": {},
          "execution_count": 27
        }
      ]
    },
    {
      "cell_type": "markdown",
      "metadata": {
        "id": "y9ADkrz8M_Ql"
      },
      "source": [
        "Evaluar el modelo keras"
      ]
    },
    {
      "cell_type": "code",
      "metadata": {
        "colab": {
          "base_uri": "https://localhost:8080/"
        },
        "id": "AQhe4KzCL_nY",
        "outputId": "7e0ff724-9c1d-44b9-b39a-7cfc4be0a246"
      },
      "source": [
        "_ , accuracy = modelo.evaluate(X,y)\n",
        "print('Exactitud (accuracy): %.2f' % (accuracy*100))"
      ],
      "execution_count": null,
      "outputs": [
        {
          "output_type": "stream",
          "name": "stdout",
          "text": [
            "1/1 [==============================] - 0s 110ms/step - loss: 0.6850 - accuracy: 0.5000\n",
            "Exactitud (accuracy): 50.00\n"
          ]
        }
      ]
    },
    {
      "cell_type": "markdown",
      "metadata": {
        "id": "y4x57Xkh1yqS"
      },
      "source": [
        "Realizar predicciones con el modelo"
      ]
    },
    {
      "cell_type": "code",
      "metadata": {
        "id": "U9d_siHiNZ_O"
      },
      "source": [
        "predicciones = modelo.predict(X)"
      ],
      "execution_count": null,
      "outputs": []
    },
    {
      "cell_type": "markdown",
      "source": [
        "Los resultados verdaderos"
      ],
      "metadata": {
        "id": "wYA6wpiwEPnn"
      }
    },
    {
      "cell_type": "code",
      "metadata": {
        "colab": {
          "base_uri": "https://localhost:8080/"
        },
        "id": "X_G7vB-C14CK",
        "outputId": "e2558f9a-64a9-4808-f574-c5c22770e729"
      },
      "source": [
        "y"
      ],
      "execution_count": null,
      "outputs": [
        {
          "output_type": "execute_result",
          "data": {
            "text/plain": [
              "array([0., 1., 1., 0.])"
            ]
          },
          "metadata": {},
          "execution_count": 30
        }
      ]
    },
    {
      "cell_type": "markdown",
      "source": [
        "Los resultados predichos"
      ],
      "metadata": {
        "id": "SQc_dLvmEbmN"
      }
    },
    {
      "cell_type": "code",
      "metadata": {
        "colab": {
          "base_uri": "https://localhost:8080/"
        },
        "id": "L-1IQqGU2CZz",
        "outputId": "d0c12aad-a91a-4a73-be10-0b2c0c9e2602"
      },
      "source": [
        "predicciones"
      ],
      "execution_count": null,
      "outputs": [
        {
          "output_type": "execute_result",
          "data": {
            "text/plain": [
              "array([[0.52351016],\n",
              "       [0.48789832],\n",
              "       [0.5233607 ],\n",
              "       [0.46929553]], dtype=float32)"
            ]
          },
          "metadata": {},
          "execution_count": 31
        }
      ]
    },
    {
      "cell_type": "markdown",
      "metadata": {
        "id": "PPxkl0_z3vJh"
      },
      "source": [
        "comparaciones"
      ]
    },
    {
      "cell_type": "code",
      "metadata": {
        "colab": {
          "base_uri": "https://localhost:8080/"
        },
        "id": "ya508WHz36zw",
        "outputId": "3fda6727-e91b-47b4-96c5-af81f4c117e1"
      },
      "source": [
        "for i in range(4):\n",
        "  print('%s => %.2f (esperado %d))' % (X[i].tolist(),predicciones[i],y[i]))"
      ],
      "execution_count": null,
      "outputs": [
        {
          "output_type": "stream",
          "name": "stdout",
          "text": [
            "[1.0, 1.0] => 0.52 (esperado 0))\n",
            "[1.0, 0.0] => 0.49 (esperado 1))\n",
            "[0.0, 1.0] => 0.52 (esperado 1))\n",
            "[0.0, 0.0] => 0.47 (esperado 0))\n"
          ]
        }
      ]
    },
    {
      "cell_type": "markdown",
      "metadata": {
        "id": "WnNOsp2nFhU9"
      },
      "source": []
    }
  ]
}