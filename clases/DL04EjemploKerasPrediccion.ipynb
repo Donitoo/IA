{
  "nbformat": 4,
  "nbformat_minor": 0,
  "metadata": {
    "colab": {
      "provenance": []
    },
    "kernelspec": {
      "name": "python3",
      "display_name": "Python 3"
    },
    "language_info": {
      "name": "python"
    }
  },
  "cells": [
    {
      "cell_type": "markdown",
      "metadata": {
        "id": "uoNRb596D3Vt"
      },
      "source": [
        "# Ejemplo de red neuronal con Keras"
      ]
    },
    {
      "cell_type": "code",
      "metadata": {
        "id": "fmFh3vlPDfko"
      },
      "source": [
        "from numpy import loadtxt\n",
        "from keras.models import Sequential\n",
        "from keras.layers import Dense"
      ],
      "execution_count": 1,
      "outputs": []
    },
    {
      "cell_type": "markdown",
      "metadata": {
        "id": "VxJOgMWREdPQ"
      },
      "source": [
        "Cargar el conjunto de datos"
      ]
    },
    {
      "cell_type": "code",
      "metadata": {
        "id": "MbA6vfLkFKGV"
      },
      "source": [
        "datos = loadtxt('pima-indians-diabetes.csv',delimiter=',')"
      ],
      "execution_count": 4,
      "outputs": []
    },
    {
      "cell_type": "markdown",
      "metadata": {
        "id": "rMBry9rIF09t"
      },
      "source": [
        "Dividir en datos de entrada (X) y de salida (y)"
      ]
    },
    {
      "cell_type": "code",
      "metadata": {
        "id": "h2MOCaNyGA0E"
      },
      "source": [
        "X = datos[:,0:8]\n",
        "y = datos[:,8]"
      ],
      "execution_count": 5,
      "outputs": []
    },
    {
      "cell_type": "markdown",
      "metadata": {
        "id": "akub2BvYGstr"
      },
      "source": [
        "Definir el modelo con keras"
      ]
    },
    {
      "cell_type": "code",
      "metadata": {
        "id": "GwgpxllxGxL_"
      },
      "source": [
        "modelo = Sequential()"
      ],
      "execution_count": 6,
      "outputs": []
    },
    {
      "cell_type": "code",
      "metadata": {
        "id": "qmzRnoL4GbB8"
      },
      "source": [
        "modelo.add(Dense(12,input_dim=8,activation='relu'))\n",
        "modelo.add(Dense(8,activation='relu'))\n",
        "modelo.add(Dense(1,activation='sigmoid'))"
      ],
      "execution_count": 7,
      "outputs": []
    },
    {
      "cell_type": "markdown",
      "metadata": {
        "id": "TvLX1iXtLa21"
      },
      "source": [
        "Compilar el modelo keras"
      ]
    },
    {
      "cell_type": "code",
      "metadata": {
        "id": "5-OyMGkiLVSo"
      },
      "source": [
        "modelo.compile(loss='binary_crossentropy',optimizer='adam',metrics=['accuracy'])"
      ],
      "execution_count": 8,
      "outputs": []
    },
    {
      "cell_type": "markdown",
      "metadata": {
        "id": "sC9uWMMxMGVW"
      },
      "source": [
        "Entrenar el modelo con el conjunto de datos"
      ]
    },
    {
      "cell_type": "code",
      "metadata": {
        "colab": {
          "base_uri": "https://localhost:8080/"
        },
        "id": "QWFc8xF2MO39",
        "outputId": "eecaf099-2a95-4577-dbcb-690c2586f2f6"
      },
      "source": [
        "modelo.fit(X,y,epochs=150,batch_size=10,verbose=0)"
      ],
      "execution_count": 9,
      "outputs": [
        {
          "output_type": "execute_result",
          "data": {
            "text/plain": [
              "<keras.callbacks.History at 0x7f90d1caffd0>"
            ]
          },
          "metadata": {},
          "execution_count": 9
        }
      ]
    },
    {
      "cell_type": "markdown",
      "metadata": {
        "id": "y9ADkrz8M_Ql"
      },
      "source": [
        "Evaluar el modelo keras"
      ]
    },
    {
      "cell_type": "code",
      "metadata": {
        "colab": {
          "base_uri": "https://localhost:8080/"
        },
        "id": "AQhe4KzCL_nY",
        "outputId": "187c87e1-2a1b-43f4-987e-b60214c0181c"
      },
      "source": [
        "_ , accuracy = modelo.evaluate(X,y)\n",
        "print('Exactitud (accuracy): %.2f' % (accuracy*100))"
      ],
      "execution_count": 10,
      "outputs": [
        {
          "output_type": "stream",
          "name": "stdout",
          "text": [
            "24/24 [==============================] - 0s 4ms/step - loss: 0.5393 - accuracy: 0.7031\n",
            "Exactitud (accuracy): 70.31\n"
          ]
        }
      ]
    },
    {
      "cell_type": "markdown",
      "metadata": {
        "id": "y4x57Xkh1yqS"
      },
      "source": [
        "Realizar predicciones con el modelo"
      ]
    },
    {
      "cell_type": "code",
      "metadata": {
        "id": "U9d_siHiNZ_O",
        "colab": {
          "base_uri": "https://localhost:8080/"
        },
        "outputId": "e94c5826-503d-4b1b-a32e-be1d85124f02"
      },
      "source": [
        "predicciones = modelo.predict(X)"
      ],
      "execution_count": 11,
      "outputs": [
        {
          "output_type": "stream",
          "name": "stdout",
          "text": [
            "24/24 [==============================] - 0s 2ms/step\n"
          ]
        }
      ]
    },
    {
      "cell_type": "markdown",
      "source": [
        "Los 10 primeros resultados verdaderos"
      ],
      "metadata": {
        "id": "wYA6wpiwEPnn"
      }
    },
    {
      "cell_type": "code",
      "metadata": {
        "colab": {
          "base_uri": "https://localhost:8080/"
        },
        "id": "X_G7vB-C14CK",
        "outputId": "86c1bedb-49d9-4fde-fcfe-3f50496fe913"
      },
      "source": [
        "y[0:10]"
      ],
      "execution_count": 12,
      "outputs": [
        {
          "output_type": "execute_result",
          "data": {
            "text/plain": [
              "array([1., 0., 1., 0., 1., 0., 1., 0., 1., 1.])"
            ]
          },
          "metadata": {},
          "execution_count": 12
        }
      ]
    },
    {
      "cell_type": "markdown",
      "source": [
        "Los 10 primeros resultados predichos"
      ],
      "metadata": {
        "id": "SQc_dLvmEbmN"
      }
    },
    {
      "cell_type": "code",
      "metadata": {
        "colab": {
          "base_uri": "https://localhost:8080/"
        },
        "id": "L-1IQqGU2CZz",
        "outputId": "1fe26004-1852-4abb-8f94-0767f55ac494"
      },
      "source": [
        "predicciones[0:10,]"
      ],
      "execution_count": 13,
      "outputs": [
        {
          "output_type": "execute_result",
          "data": {
            "text/plain": [
              "array([[0.47661072],\n",
              "       [0.14678572],\n",
              "       [0.47661072],\n",
              "       [0.18856844],\n",
              "       [0.792168  ],\n",
              "       [0.3021715 ],\n",
              "       [0.4573386 ],\n",
              "       [0.47661072],\n",
              "       [0.86627364],\n",
              "       [0.2208054 ]], dtype=float32)"
            ]
          },
          "metadata": {},
          "execution_count": 13
        }
      ]
    },
    {
      "cell_type": "markdown",
      "metadata": {
        "id": "PPxkl0_z3vJh"
      },
      "source": [
        "comparación con los 10 primeros casos"
      ]
    },
    {
      "cell_type": "code",
      "metadata": {
        "colab": {
          "base_uri": "https://localhost:8080/"
        },
        "id": "ya508WHz36zw",
        "outputId": "f4275e2e-e8ad-4844-e1d7-364a39cab61b"
      },
      "source": [
        "for i in range(10):\n",
        "  print('%s => %.2f (esperado %d))' % (X[i].tolist(),predicciones[i],y[i]))"
      ],
      "execution_count": 14,
      "outputs": [
        {
          "output_type": "stream",
          "name": "stdout",
          "text": [
            "[6.0, 148.0, 72.0, 35.0, 0.0, 33.6, 0.627, 50.0] => 0.48 (esperado 1))\n",
            "[1.0, 85.0, 66.0, 29.0, 0.0, 26.6, 0.351, 31.0] => 0.15 (esperado 0))\n",
            "[8.0, 183.0, 64.0, 0.0, 0.0, 23.3, 0.672, 32.0] => 0.48 (esperado 1))\n",
            "[1.0, 89.0, 66.0, 23.0, 94.0, 28.1, 0.167, 21.0] => 0.19 (esperado 0))\n",
            "[0.0, 137.0, 40.0, 35.0, 168.0, 43.1, 2.288, 33.0] => 0.79 (esperado 1))\n",
            "[5.0, 116.0, 74.0, 0.0, 0.0, 25.6, 0.201, 30.0] => 0.30 (esperado 0))\n",
            "[3.0, 78.0, 50.0, 32.0, 88.0, 31.0, 0.248, 26.0] => 0.46 (esperado 1))\n",
            "[10.0, 115.0, 0.0, 0.0, 0.0, 35.3, 0.134, 29.0] => 0.48 (esperado 0))\n",
            "[2.0, 197.0, 70.0, 45.0, 543.0, 30.5, 0.158, 53.0] => 0.87 (esperado 1))\n",
            "[8.0, 125.0, 96.0, 0.0, 0.0, 0.0, 0.232, 54.0] => 0.22 (esperado 1))\n"
          ]
        }
      ]
    },
    {
      "cell_type": "markdown",
      "metadata": {
        "id": "WnNOsp2nFhU9"
      },
      "source": []
    }
  ]
}